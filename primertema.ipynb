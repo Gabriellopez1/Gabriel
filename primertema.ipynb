{
  "nbformat": 4,
  "nbformat_minor": 0,
  "metadata": {
    "colab": {
      "provenance": [],
      "authorship_tag": "ABX9TyMHiA/ydbN7E9dowfIATHCF",
      "include_colab_link": true
    },
    "kernelspec": {
      "name": "python3",
      "display_name": "Python 3"
    },
    "language_info": {
      "name": "python"
    }
  },
  "cells": [
    {
      "cell_type": "markdown",
      "metadata": {
        "id": "view-in-github",
        "colab_type": "text"
      },
      "source": [
        "<a href=\"https://colab.research.google.com/github/Gabriellopez1/Gabriel/blob/main/primertema.ipynb\" target=\"_parent\"><img src=\"https://colab.research.google.com/assets/colab-badge.svg\" alt=\"Open In Colab\"/></a>"
      ]
    },
    {
      "cell_type": "code",
      "source": [],
      "metadata": {
        "id": "dRNhBO386xuk"
      },
      "execution_count": null,
      "outputs": []
    },
    {
      "cell_type": "code",
      "source": [],
      "metadata": {
        "id": "EYSalVB0Ep61"
      },
      "execution_count": null,
      "outputs": []
    },
    {
      "cell_type": "markdown",
      "source": [
        "**Lenguaje y Algoritmo**\n",
        "\n",
        "Lenguaje de progamacion:\n",
        "\n",
        "* C\n",
        "* c++\n",
        "* Java\n",
        "* Fortran\n",
        "* Delphi\n",
        "\n",
        "**Algoritmo**\n",
        "\n",
        "conjunto de pasos, procedimientos o acciones que nos permiten alcanzar un resultado o resolver un porblema.\n",
        "\n",
        "Caracteristicas:\n",
        "\n",
        "Determinismo.\n",
        "Presicion.\n",
        "Finitud.\n",
        "\n",
        "(Cairó et al., 1993)\n",
        "\n",
        "**Datos Numéricos**\n",
        "\n",
        "Valores enteros y valores reales.\n",
        "Valores enteros pueden estar precedidos por los signo (+ -)\n",
        "\n",
        "128 152s -714 8 530 -14 789\n",
        "7.5  128.0  -37.865   129.7   16 00.50\n",
        "\n",
        "**Datos Alfanuméricos**\n",
        "*caracter\n",
        "*Cadena\n",
        "\n",
        "(a,b,c...z)\n",
        "(0, 1, 2, 3... 9)\n",
        "(#, ?, $, %, *, etc)\n",
        "\n",
        "'a' 'B' '$' '9' 'H'\n",
        "\n",
        "\"abc\" \"$9#7\" \"Heeectoooor\" \"patroclo!!!\" \"754-17-22\"\n",
        "\n",
        "**Datos Logisticos**\n",
        "booleanos\n",
        "Verdadero (true)\n",
        "Falso     (false)\n",
        "\n",
        "**Datos Lógisticos booleanos Verdadero (true) Falso (false)\n",
        "\n",
        "\n",
        "\n",
        "\n",
        "\n",
        "\n",
        "\n",
        "\n"
      ],
      "metadata": {
        "id": "ztqMmpVQ0IMe"
      }
    },
    {
      "cell_type": "code",
      "source": [
        "#tipos de Variable en python\n",
        "#El tipo de variable estará determinado por el tipo de dato que almacena\n",
        "#Entero: vasta agragar un valor entero\n",
        "\n",
        "a=10\n",
        "b=11\n",
        "\n",
        "#Decimales: deben agragarse a un numero con punto flotante\n",
        "c=3.1416\n",
        "\n",
        "#Booleanos: Datos con verdadero y false\n",
        "#se pueden usar palabras: True y False\n",
        "\n",
        "verdad = True\n",
        "falso = False\n",
        "\n",
        "Verdad = 1\n",
        "Falso = 0\n",
        "\n",
        "#Texto o cadena o string\n",
        "saludo = \"Hola Mundo\"\n",
        "nombre = \"Juan\"\n",
        "\n",
        "uno = 'a'\n",
        "dos = 'b'\n",
        "\n",
        "print(a)\n",
        "print(b)\n",
        "print(c)\n",
        "print(verdad)\n",
        "print(falso)\n",
        "print(verdad)\n",
        "print(falso)\n",
        "print(nombre)\n",
        "print(uno)\n",
        "print(dos)"
      ],
      "metadata": {
        "colab": {
          "base_uri": "https://localhost:8080/"
        },
        "id": "YK_Q3eUn-yZN",
        "outputId": "fe29045d-8752-4ce7-bb35-58509aa2b111"
      },
      "execution_count": null,
      "outputs": [
        {
          "output_type": "stream",
          "name": "stdout",
          "text": [
            "10\n",
            "11\n",
            "3.1416\n",
            "True\n",
            "False\n",
            "True\n",
            "False\n",
            "Juan\n",
            "a\n",
            "b\n"
          ]
        }
      ]
    },
    {
      "cell_type": "code",
      "source": [],
      "metadata": {
        "id": "wvBMuYVxEVfV"
      },
      "execution_count": null,
      "outputs": []
    }
  ]
}